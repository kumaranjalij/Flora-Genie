{
 "cells": [
  {
   "cell_type": "code",
   "execution_count": 1,
   "id": "c26436ff",
   "metadata": {},
   "outputs": [],
   "source": [
    "import requests\n",
    "\n",
    "from bs4 import BeautifulSoup, NavigableString\n",
    "from html_table_extractor.extractor import Extractor\n",
    "import pandas as pd\n",
    "import time\n",
    "import collections\n",
    "import csv\n",
    "collections.Callable = collections.abc.Callable"
   ]
  },
  {
   "cell_type": "code",
   "execution_count": 2,
   "id": "388836d1",
   "metadata": {},
   "outputs": [],
   "source": [
    "def extract_content_from_h2(soup_test):\n",
    "    # Find the first h2 tag with class \"title\"\n",
    "    h2_tag = soup_test.find('h2', class_='title')\n",
    "    \n",
    "    # Extract the content inside the first <i> tag within the h2 tag\n",
    "    if h2_tag:\n",
    "        i_tags = h2_tag.find_all('i')\n",
    "        if i_tags:\n",
    "            first_i_tag_content = i_tags[0].text.strip()\n",
    "            return first_i_tag_content\n",
    "    \n",
    "    return None"
   ]
  },
  {
   "cell_type": "code",
   "execution_count": 3,
   "id": "c9356742",
   "metadata": {},
   "outputs": [],
   "source": [
    "def extract_table_content(soup_test):\n",
    "    \n",
    "    # Find the first table tag in the parsed HTML\n",
    "    table = soup_test.find_all('table')\n",
    "    \n",
    "    # Initialize an empty list to store the extracted content\n",
    "    content_list = []\n",
    "    \n",
    "    # If a table tag is found, extract the content inside it\n",
    "    if table[3]:\n",
    "        for cell in table[3].find_all('tr'):\n",
    "            list_items = cell.find_all('li')\n",
    "\n",
    "            for li in list_items:\n",
    "                inner_list = [li.get_text(strip=True)]\n",
    "                    \n",
    "                content_list.append(inner_list)\n",
    "\n",
    "    return content_list"
   ]
  },
  {
   "cell_type": "code",
   "execution_count": 11,
   "id": "f69f68da",
   "metadata": {},
   "outputs": [],
   "source": [
    "# Define the base URL pattern\n",
    "base_url = \"https://indiaflora-ces.iisc.ac.in/herbsheet.php?id={}&cat=13\"\n",
    "\n",
    "# Define the User-Agent header\n",
    "headers = {\n",
    "    'User-Agent': 'Mozilla/5.0 (Windows NT 10.0; Win64; x64) AppleWebKit/537.36 (KHTML, like Gecko) Chrome/91.0.4472.124 Safari/537.36'\n",
    "}\n",
    "\n",
    "# Initialize an empty list to store the extracted data\n",
    "all_data = []\n",
    "\n",
    "# Loop through IDs from 1 to 13122\n",
    "for herb_id in range(1, 2):\n",
    "    # Construct the URL with the current herb ID\n",
    "    url = base_url.format(herb_id)\n",
    "    \n",
    "    # Send an HTTP GET request to the website with the defined headers\n",
    "    response = requests.get(url, headers=headers)\n",
    "\n",
    "    # Check if the request was successful (status code 200)\n",
    "    if response.status_code == 200:\n",
    "        # Parse the HTML code using BeautifulSoup\n",
    "        soup = BeautifulSoup(response.content, 'html.parser')\n",
    "        one_plant=[]\n",
    "        pid = 'Plant_id: ' + str(herb_id)\n",
    "        plant_name = extract_content_from_h2(soup)\n",
    "        scientific_name = 'Scientific_name: ' + plant_name\n",
    "        one_plant.append([pid])\n",
    "        one_plant.append([scientific_name])\n",
    "        one_plant.extend(extract_table_content(soup))        \n",
    "        # Append the dictionary to the list\n",
    "        all_data.append(one_plant)\n",
    "    else:\n",
    "        print(f\"Failed to retrieve data for ID {herb_id}. Status code: {response.status_code}\")\n",
    "\n",
    "    # Adding a delay between requests to avoid rate limiting\n",
    "    time.sleep(1)  # Sleep for 1 second between requests\n"
   ]
  },
  {
   "cell_type": "code",
   "execution_count": 12,
   "id": "3fc6ec4b",
   "metadata": {},
   "outputs": [
    {
     "data": {
      "text/plain": [
       "[[['Plant_id: 1'],\n",
       "  ['Scientific_name: Abelia chinensis'],\n",
       "  ['Family:CAPRIFOLIACEAE(Honeysuckle Family)'],\n",
       "  ['Family (Hindi name): RASHINA FAMILY'],\n",
       "  ['Family (as per The APG System III):Caprifoliaceae'],\n",
       "  ['Synonym(s): Linnaea chinensis (R.Br.) A.Braun & Vatke'],\n",
       "  ['Species Name(as per The IPNI):Linnaea chinensis (R.Br.) A.Braun & Vatke'],\n",
       "  ['Habitat: Cultivated'],\n",
       "  ['Key identification features: An upright-rounded, multi-stemmed, deciduous shrub of the honeysuckle family that typically grows on arching branches to 5-8’ tall and to 3-5’ wide. This is an outstanding flowering shrub whose main claim to fame is a lengthy early summer to fall bloom of very fragrant tubular white flowers with showy soft pink bracts. Flowers may be the most fragrant found on any species of Abelia. This shrub is native to lower alpine areas up to about 6000’ in elevation in southeastern China. Branchlets are covered with soft reddish wooly hairs when young. Mature branches are grayish brown. Toothed ovate leaves (to 1 1/2” long) are sparsely hairy above. White flowers (each to 1/2” long) bloom in axillary and terminal clusters at the stem ends. Weight of the flowers often causes the stem ends to dip, thus giving the shrub a somewhat weeping appearance during peak bloom season. As the flowers finish bloom, the sepals turn from green to a showy rosy mauve and persist on the shrub with retention of that color until November. From a distance, the shrub appears to be in bloom well into fall even though the flowers are long gone. This shrub is well-known for being attractive to butterflies (adults butterflies seek flower nectar and caterpillars feed on the foliage).'],\n",
       "  ['Distribution:Sikkim: Gangtok district'],\n",
       "  ['Sikkim: Gangtok district'],\n",
       "  ['Native: China, Nansei-shoto, Taiwan, Vietnam'],\n",
       "  ['Exotic/Native: Exotic'],\n",
       "  ['World Distribution: China Southeast, Nansei-shoto, Taiwan, Vietnam'],\n",
       "  ['Literature:Personal Photo of K. Sankara Rao'],\n",
       "  ['Personal Photo of K. Sankara Rao'],\n",
       "  ['Read more:Plants of the World OnlineWorld Flora OnlineGlobal Plants on JSTOR'],\n",
       "  ['Plants of the World Online'],\n",
       "  ['World Flora Online'],\n",
       "  ['Global Plants on JSTOR'],\n",
       "  ['Citation: Sankara Rao, K., Deepak Kumar (2024). India Flora Online.http://indiafloraonline-ces.iisc.ac.in/plants.php?name=Abelia chinensis. Downloaded on  11 April 2024.']]]"
      ]
     },
     "execution_count": 12,
     "metadata": {},
     "output_type": "execute_result"
    }
   ],
   "source": [
    "all_data"
   ]
  },
  {
   "cell_type": "code",
   "execution_count": 6,
   "id": "ab798b22",
   "metadata": {},
   "outputs": [
    {
     "data": {
      "text/plain": [
       "1"
      ]
     },
     "execution_count": 6,
     "metadata": {},
     "output_type": "execute_result"
    }
   ],
   "source": [
    "len(all_data)"
   ]
  },
  {
   "cell_type": "code",
   "execution_count": 15,
   "id": "e0c15656",
   "metadata": {},
   "outputs": [],
   "source": [
    "def extract_data_to_csv(scraped_data, csv_filename):\n",
    "    # Define the header row for the CSV file\n",
    "    header = ['Plant_Id', 'Scientific_Name', 'Family', 'Family_Hindi_Name)', 'Species_Name', 'Common_Name', 'Habit', 'Habitat', 'Comments', 'Flower_Fruit', 'Distribution', 'Key_Feature']\n",
    "    \n",
    "    # Create and open the CSV file in write mode\n",
    "    with open(csv_filename, mode='w', newline='') as file:\n",
    "        writer = csv.writer(file)\n",
    "        \n",
    "        # Write the header row to the CSV file\n",
    "        writer.writerow(header)\n",
    "        \n",
    "        for item in scraped_data:\n",
    "            # Initialize variables to store extracted information\n",
    "            pid = ''\n",
    "            scientific_name = ''\n",
    "            family = ''\n",
    "            hindi_name = ''\n",
    "            species_name = ''\n",
    "            common_name = ''\n",
    "            habit = ''\n",
    "            habitat = ''\n",
    "            feature = ''\n",
    "            comments = ''\n",
    "            flower_fruit = ''\n",
    "            distribution = ''\n",
    "            \n",
    "            # Loop through each item in the scraped data\n",
    "            for sub_item in range(len(item)):\n",
    "                \n",
    "                # Extract information based on the content of the sub-item\n",
    "                if item[sub_item][0].startswith('Plant_id:'):\n",
    "                    pid = item[sub_item][0].split(':')[1].strip()\n",
    "                elif item[sub_item][0].startswith('Scientific_name:'):\n",
    "                    scientific_name = item[sub_item][0].split(':')[1].strip()\n",
    "                elif item[sub_item][0].startswith('Family:'):\n",
    "                    family = item[sub_item][0].split(':')[1].strip()\n",
    "                elif item[sub_item][0].startswith('Family (Hindi name):'):\n",
    "                    hindi_name = item[sub_item][0].split(':')[1].strip()\n",
    "                elif item[sub_item][0].startswith('Species Name'):\n",
    "                    species_name = item[sub_item][0].split(':')[1].strip()\n",
    "                elif item[sub_item][0].startswith('Common name:'):\n",
    "                    common_name = item[sub_item][0].split(':')[1].strip()\n",
    "                elif item[sub_item][0].startswith('Habit:'):\n",
    "                    habit = item[sub_item][0].split(':')[1].strip()\n",
    "                elif item[sub_item][0].startswith('Habitat:'):\n",
    "                    habitat = item[sub_item][0].split(':')[1].strip()\n",
    "                elif item[sub_item][0].startswith('Comments / notes:'):\n",
    "                    comments = item[sub_item][0].split(':')[1].strip()\n",
    "                elif item[sub_item][0].startswith('Flower, Fruit:'):\n",
    "                    flower_fruit = item[sub_item][0].split(':')[1].strip()\n",
    "                elif item[sub_item][0].startswith('Distribution:'):\n",
    "                    # Extract the state names from the Distribution information\n",
    "                    states = []\n",
    "                    states_str = item[sub_item][0].split(':', 1)[1].strip()\n",
    "                    counter = states_str.count(':')\n",
    "                    sub_item = sub_item + 1\n",
    "                    while counter>0 and sub_item<len(item):\n",
    "                        states.append(item[sub_item][0].split(':')[0].strip())\n",
    "                        sub_item = sub_item + 1\n",
    "                        counter = counter - 1\n",
    "                    distribution = ', '.join(states)\n",
    "                elif item[sub_item][0].startswith('Key identification features:'):\n",
    "                    feature = item[sub_item][0].split(':')[1].strip()\n",
    "\n",
    "            # Write the extracted information to the CSV file as a row\n",
    "            writer.writerow([pid, scientific_name, family, hindi_name, species_name, common_name, habit, habitat, comments, flower_fruit, distribution, feature])"
   ]
  },
  {
   "cell_type": "code",
   "execution_count": 16,
   "id": "59045353",
   "metadata": {},
   "outputs": [],
   "source": [
    "# Specify the desired CSV filename\n",
    "csv_filename = 'extracted_data_india_flora_1.csv'\n",
    "\n",
    "# Call the function to extract data to CSV\n",
    "extract_data_to_csv(all_data, csv_filename)\n"
   ]
  },
  {
   "cell_type": "code",
   "execution_count": null,
   "id": "d3963fd0",
   "metadata": {},
   "outputs": [],
   "source": []
  }
 ],
 "metadata": {
  "kernelspec": {
   "display_name": "Python 3 (ipykernel)",
   "language": "python",
   "name": "python3"
  },
  "language_info": {
   "codemirror_mode": {
    "name": "ipython",
    "version": 3
   },
   "file_extension": ".py",
   "mimetype": "text/x-python",
   "name": "python",
   "nbconvert_exporter": "python",
   "pygments_lexer": "ipython3",
   "version": "3.10.12"
  }
 },
 "nbformat": 4,
 "nbformat_minor": 5
}
